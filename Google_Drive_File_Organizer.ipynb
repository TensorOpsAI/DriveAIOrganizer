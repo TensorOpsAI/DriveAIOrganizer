{
  "cells": [
    {
      "cell_type": "markdown",
      "id": "c7b14a1d",
      "metadata": {
        "id": "c7b14a1d"
      },
      "source": [
        "# Google Drive File Organizer\n",
        "This notebook organizes files in your Google Drive and suggests folders where files should be moved based on their names and types. It uses the Google Drive API to list files and folders and the OpenAI API to classify them."
      ]
    },
    {
      "cell_type": "markdown",
      "id": "85f6124a",
      "metadata": {
        "id": "85f6124a"
      },
      "source": [
        "## Setup and Installation\n",
        "In this section, we'll install necessary libraries and authenticate with Google and OpenAI."
      ]
    },
    {
      "cell_type": "code",
      "execution_count": 1,
      "id": "ea4b6b48",
      "metadata": {
        "colab": {
          "base_uri": "https://localhost:8080/"
        },
        "id": "ea4b6b48",
        "outputId": "43917d06-5bbf-4633-d0fc-f3e141d09b99"
      },
      "outputs": [
        {
          "output_type": "stream",
          "name": "stdout",
          "text": [
            "\u001b[?25l   \u001b[90m━━━━━━━━━━━━━━━━━━━━━━━━━━━━━━━━━━━━━━━━\u001b[0m \u001b[32m0.0/362.4 kB\u001b[0m \u001b[31m?\u001b[0m eta \u001b[36m-:--:--\u001b[0m\r\u001b[2K   \u001b[91m━━━━━━━━━━━━━━━━━━━━━━━━━━━━━━━━━━━━━━━\u001b[0m\u001b[91m╸\u001b[0m \u001b[32m358.4/362.4 kB\u001b[0m \u001b[31m22.2 MB/s\u001b[0m eta \u001b[36m0:00:01\u001b[0m\r\u001b[2K   \u001b[90m━━━━━━━━━━━━━━━━━━━━━━━━━━━━━━━━━━━━━━━━\u001b[0m \u001b[32m362.4/362.4 kB\u001b[0m \u001b[31m7.4 MB/s\u001b[0m eta \u001b[36m0:00:00\u001b[0m\n",
            "\u001b[?25h\u001b[?25l   \u001b[90m━━━━━━━━━━━━━━━━━━━━━━━━━━━━━━━━━━━━━━━━\u001b[0m \u001b[32m0.0/75.6 kB\u001b[0m \u001b[31m?\u001b[0m eta \u001b[36m-:--:--\u001b[0m\r\u001b[2K   \u001b[90m━━━━━━━━━━━━━━━━━━━━━━━━━━━━━━━━━━━━━━━━\u001b[0m \u001b[32m75.6/75.6 kB\u001b[0m \u001b[31m2.9 MB/s\u001b[0m eta \u001b[36m0:00:00\u001b[0m\n",
            "\u001b[2K   \u001b[90m━━━━━━━━━━━━━━━━━━━━━━━━━━━━━━━━━━━━━━━━\u001b[0m \u001b[32m77.9/77.9 kB\u001b[0m \u001b[31m3.4 MB/s\u001b[0m eta \u001b[36m0:00:00\u001b[0m\n",
            "\u001b[2K   \u001b[90m━━━━━━━━━━━━━━━━━━━━━━━━━━━━━━━━━━━━━━━━\u001b[0m \u001b[32m318.9/318.9 kB\u001b[0m \u001b[31m11.4 MB/s\u001b[0m eta \u001b[36m0:00:00\u001b[0m\n",
            "\u001b[2K   \u001b[90m━━━━━━━━━━━━━━━━━━━━━━━━━━━━━━━━━━━━━━━━\u001b[0m \u001b[32m58.3/58.3 kB\u001b[0m \u001b[31m2.6 MB/s\u001b[0m eta \u001b[36m0:00:00\u001b[0m\n",
            "\u001b[?25h"
          ]
        }
      ],
      "source": [
        "# Install required packages\n",
        "!pip install openai --quiet\n",
        "\n",
        "import os\n",
        "import pandas as pd\n",
        "from google.colab import auth, drive, userdata\n",
        "from googleapiclient.discovery import build\n",
        "from googleapiclient.errors import HttpError\n",
        "from openai import OpenAI\n",
        "from tqdm.notebook import tqdm\n",
        "from google.auth import default"
      ]
    },
    {
      "cell_type": "code",
      "execution_count": 2,
      "id": "886888a0",
      "metadata": {
        "colab": {
          "base_uri": "https://localhost:8080/"
        },
        "id": "886888a0",
        "outputId": "64151f97-9fbc-410f-f9a4-976dfa4b1071"
      },
      "outputs": [
        {
          "output_type": "stream",
          "name": "stdout",
          "text": [
            "Mounted at /content/drive\n"
          ]
        }
      ],
      "source": [
        "# Authenticate and create the required clients\n",
        "auth.authenticate_user()\n",
        "drive.mount('/content/drive')\n",
        "creds, _ = default()\n",
        "\n",
        "# Initialize OpenAI client\n",
        "client = OpenAI(api_key=userdata.get('openai_key'))"
      ]
    },
    {
      "cell_type": "markdown",
      "id": "aa8efa8b",
      "metadata": {
        "id": "aa8efa8b"
      },
      "source": [
        "## Google Drive API Functions\n",
        "The following functions interact with the Google Drive API to fetch files and folders."
      ]
    },
    {
      "cell_type": "code",
      "execution_count": 3,
      "id": "42c35066",
      "metadata": {
        "id": "42c35066"
      },
      "outputs": [],
      "source": [
        "# Google Drive API Service Initialization\n",
        "def get_drive_service():\n",
        "    \"\"\"Initialize and return the Google Drive service.\"\"\"\n",
        "    return build('drive', 'v3', credentials=creds)"
      ]
    },
    {
      "cell_type": "code",
      "execution_count": 4,
      "id": "0fd65e8d",
      "metadata": {
        "id": "0fd65e8d"
      },
      "outputs": [],
      "source": [
        "# Fetching Files and Folders from Google Drive\n",
        "def get_personal_files(service):\n",
        "    \"\"\"Retrieve a list of personal files from Google Drive.\"\"\"\n",
        "    files = []\n",
        "    page_token = None\n",
        "    query = \"'me' in owners and mimeType != 'application/vnd.google-apps.folder'\"\n",
        "\n",
        "    while True:\n",
        "        results = service.files().list(\n",
        "            q=query,\n",
        "            pageSize=1000,\n",
        "            fields=\"nextPageToken, files(id, name, mimeType, parents)\",\n",
        "            pageToken=page_token\n",
        "        ).execute()\n",
        "\n",
        "        files.extend(results.get('files', []))\n",
        "        page_token = results.get('nextPageToken')\n",
        "\n",
        "        if not page_token:\n",
        "            break\n",
        "\n",
        "    return files"
      ]
    },
    {
      "cell_type": "code",
      "execution_count": 5,
      "id": "a8ae3da1",
      "metadata": {
        "id": "a8ae3da1"
      },
      "outputs": [],
      "source": [
        "def get_shared_drives(service):\n",
        "    \"\"\"Retrieve a list of shared drives.\"\"\"\n",
        "    drives = []\n",
        "    page_token = None\n",
        "\n",
        "    while True:\n",
        "        response = service.drives().list(pageSize=100, pageToken=page_token).execute()\n",
        "        drives.extend(response.get('drives', []))\n",
        "        page_token = response.get('nextPageToken')\n",
        "\n",
        "        if not page_token:\n",
        "            break\n",
        "\n",
        "    return drives"
      ]
    },
    {
      "cell_type": "code",
      "execution_count": 6,
      "id": "6e562ad8",
      "metadata": {
        "id": "6e562ad8"
      },
      "outputs": [],
      "source": [
        "def get_folders_in_drive(service, drive_id):\n",
        "    \"\"\"Retrieve a list of folders in a specific shared drive.\"\"\"\n",
        "    folders = []\n",
        "    page_token = None\n",
        "    query = \"mimeType='application/vnd.google-apps.folder'\"\n",
        "\n",
        "    while True:\n",
        "        results = service.files().list(\n",
        "            q=query,\n",
        "            corpora='drive',\n",
        "            driveId=drive_id,\n",
        "            includeItemsFromAllDrives=True,\n",
        "            supportsAllDrives=True,\n",
        "            fields=\"nextPageToken, files(id, name, parents)\",\n",
        "            pageToken=page_token\n",
        "        ).execute()\n",
        "\n",
        "        folders.extend(results.get('files', []))\n",
        "        page_token = results.get('nextPageToken')\n",
        "\n",
        "        if not page_token:\n",
        "            break\n",
        "\n",
        "    return folders"
      ]
    },
    {
      "cell_type": "code",
      "execution_count": 14,
      "id": "c87430da",
      "metadata": {
        "id": "c87430da"
      },
      "outputs": [],
      "source": [
        "def get_folder_path(service, folder_id):\n",
        "    \"\"\"Recursively build the full path of the folder using its ID.\"\"\"\n",
        "    path = []\n",
        "    while folder_id:\n",
        "        try:\n",
        "            folder = service.files().get(\n",
        "                fileId=folder_id,\n",
        "                fields=\"id, name, parents\",\n",
        "                supportsAllDrives=True  # Include this for shared drives\n",
        "            ).execute()\n",
        "            path.append(folder['name'])\n",
        "            folder_id = folder.get('parents', [None])[0]\n",
        "        except HttpError as error:\n",
        "            print(f\"Error fetching folder path for ID {folder_id}: {error}\")\n",
        "            return None  # Return None if the folder cannot be found\n",
        "    return '/'.join(reversed(path)) if path else None"
      ]
    },
    {
      "cell_type": "markdown",
      "id": "7aeda7e8",
      "metadata": {
        "id": "7aeda7e8"
      },
      "source": [
        "## OpenAI API Function for Classification\n",
        "This function uses the OpenAI API to classify files and suggest folders where they should be moved."
      ]
    },
    {
      "cell_type": "code",
      "execution_count": 15,
      "id": "5e5c0920",
      "metadata": {
        "id": "5e5c0920"
      },
      "outputs": [],
      "source": [
        "def classify_file(file_name, file_type, folders):\n",
        "    \"\"\"Classify a file and suggest whether it should be moved and to which folder.\"\"\"\n",
        "    prompt = f\"\"\"Given the file name '{file_name}' (type: {file_type}) and the following list of folders:\n",
        "{', '.join([folder['name'] for folder in folders])}\n",
        "\n",
        "Should this file be moved? If yes, to which folder? If no, say 'No move needed.'\n",
        "Provide a brief explanation for your decision.\"\"\"\n",
        "\n",
        "    try:\n",
        "        response = client.chat.completions.create(\n",
        "            model=\"gpt-4o-mini\",\n",
        "            messages=[\n",
        "                {\"role\": \"system\", \"content\": \"You are a helpful assistant that organizes files.\"},\n",
        "                {\"role\": \"user\", \"content\": prompt}\n",
        "            ],\n",
        "            max_tokens=150,\n",
        "            temperature=0.7\n",
        "        )\n",
        "\n",
        "        content = response.choices[0].message.content.strip()\n",
        "\n",
        "        if \"No move needed\" in content:\n",
        "            return {\n",
        "                \"move_needed\": False,\n",
        "                \"target_folder\": None,\n",
        "                \"explanation\": content,\n",
        "                \"folder_path\": None,\n",
        "                \"folder_id\": None\n",
        "            }\n",
        "        else:\n",
        "            # Extract the folder name from the response if provided\n",
        "            target_folder = next((folder for folder in folders if folder['name'] in content), None)\n",
        "\n",
        "            if target_folder:\n",
        "                print(f\"Fetching path for folder ID: {target_folder['id']}\")\n",
        "                folder_path = get_folder_path(service, target_folder['id'])\n",
        "                return {\n",
        "                    \"move_needed\": True,\n",
        "                    \"target_folder\": target_folder['name'],\n",
        "                    \"explanation\": content,\n",
        "                    \"folder_path\": folder_path,\n",
        "                    \"folder_id\": target_folder['id']\n",
        "                }\n",
        "            else:\n",
        "                print(\"Target folder not found in response content.\")\n",
        "                return {\n",
        "                    \"move_needed\": True,\n",
        "                    \"target_folder\": None,\n",
        "                    \"explanation\": content,\n",
        "                    \"folder_path\": None,\n",
        "                    \"folder_id\": None\n",
        "                }\n",
        "\n",
        "    except HttpError as e:\n",
        "        print(f\"HTTP error during classification: {e}\")\n",
        "        return {\n",
        "            \"move_needed\": False,\n",
        "            \"target_folder\": None,\n",
        "            \"explanation\": \"Classification failed due to an HTTP error. Please try again later.\",\n",
        "            \"folder_path\": None,\n",
        "            \"folder_id\": None\n",
        "        }\n",
        "    except Exception as e:\n",
        "        print(f\"Error during classification: {e}\")\n",
        "        return {\n",
        "            \"move_needed\": False,\n",
        "            \"target_folder\": None,\n",
        "            \"explanation\": \"Classification failed due to an error. Please try again later.\",\n",
        "            \"folder_path\": None,\n",
        "            \"folder_id\": None\n",
        "        }\n"
      ]
    },
    {
      "cell_type": "markdown",
      "id": "d6473166",
      "metadata": {
        "id": "d6473166"
      },
      "source": [
        "## Running the Workflow\n",
        "Now, let's run the functions to fetch the files and folders, classify them, and save the results."
      ]
    },
    {
      "cell_type": "code",
      "execution_count": 9,
      "id": "6cf250a4",
      "metadata": {
        "colab": {
          "base_uri": "https://localhost:8080/"
        },
        "id": "6cf250a4",
        "outputId": "2f048a9c-d9f0-4dec-df78-8dc1e938daf2"
      },
      "outputs": [
        {
          "output_type": "stream",
          "name": "stdout",
          "text": [
            "Fetching personal files...\n"
          ]
        }
      ],
      "source": [
        "# Initialize the Google Drive service\n",
        "service = get_drive_service()\n",
        "\n",
        "# Fetch personal files\n",
        "print(\"Fetching personal files...\")\n",
        "personal_files = get_personal_files(service)"
      ]
    },
    {
      "cell_type": "code",
      "execution_count": 10,
      "id": "d2dc2be4",
      "metadata": {
        "colab": {
          "base_uri": "https://localhost:8080/"
        },
        "id": "d2dc2be4",
        "outputId": "ecfcf3d0-b6dd-45bf-c227-41a83ea220c8"
      },
      "outputs": [
        {
          "output_type": "stream",
          "name": "stdout",
          "text": [
            "Fetching shared drives and folders...\n"
          ]
        }
      ],
      "source": [
        "# Fetch shared drives and folders\n",
        "print(\"Fetching shared drives and folders...\")\n",
        "shared_drives = get_shared_drives(service)\n",
        "all_folders = []\n",
        "for drive in shared_drives:\n",
        "    folders = get_folders_in_drive(service, drive['id'])\n",
        "    all_folders.extend(folders)"
      ]
    },
    {
      "cell_type": "code",
      "execution_count": null,
      "id": "05a2fd63",
      "metadata": {
        "id": "05a2fd63"
      },
      "outputs": [],
      "source": [
        "# Classify files\n",
        "print(\"Classifying files...\")\n",
        "data = []\n",
        "for file in tqdm(personal_files[:10]):  # Adjust the slice for more files\n",
        "    suggestion = classify_file(file['name'], file['mimeType'], all_folders)\n",
        "    data.append({\n",
        "        'File Name': file['name'],\n",
        "        'Current Location': 'Personal Drive',\n",
        "        'Move Needed': suggestion['move_needed'],\n",
        "        'Target Folder': suggestion['target_folder'],\n",
        "        'Explanation': suggestion['explanation'],\n",
        "        'Folder Path': suggestion['folder_path'],\n",
        "        'Folder ID': suggestion['folder_id']\n",
        "    })\n",
        "\n",
        "df = pd.DataFrame(data)\n",
        "\n",
        "# Display the classification results\n",
        "print(\"\\nClassification Results:\")\n",
        "display(df)"
      ]
    },
    {
      "source": [
        "from google.colab import sheets\n",
        "sheet = sheets.InteractiveSheet(df=df)"
      ],
      "cell_type": "code",
      "execution_count": null,
      "outputs": [],
      "metadata": {
        "cellView": "form",
        "id": "CayxoaO74i5U"
      },
      "id": "CayxoaO74i5U"
    }
  ],
  "metadata": {
    "colab": {
      "provenance": []
    },
    "language_info": {
      "name": "python"
    },
    "kernelspec": {
      "name": "python3",
      "display_name": "Python 3"
    }
  },
  "nbformat": 4,
  "nbformat_minor": 5
}